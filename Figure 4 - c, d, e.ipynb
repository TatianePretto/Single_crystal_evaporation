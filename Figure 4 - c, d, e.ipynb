{
 "cells": [
  {
   "cell_type": "code",
   "execution_count": null,
   "metadata": {},
   "outputs": [],
   "source": [
    "import os\n",
    "from enum import auto\n",
    "import pandas as pd\n",
    "import numpy as np\n",
    "import matplotlib.pyplot as plt\n",
    "import seaborn as sns\n",
    "from cmcrameri import cm\n",
    "from sklearn.metrics import mean_squared_error, mean_absolute_error, r2_score"
   ]
  },
  {
   "cell_type": "markdown",
   "metadata": {},
   "source": [
    "Boxplots --- Figrue 4-c"
   ]
  },
  {
   "cell_type": "code",
   "execution_count": null,
   "metadata": {},
   "outputs": [],
   "source": [
    "## Old results\n",
    "Data_evap_old = pd.read_csv(r\"...\\evap_parameters_juntos.csv\", \n",
    "                                delimiter = \",\")"
   ]
  },
  {
   "cell_type": "code",
   "execution_count": null,
   "metadata": {},
   "outputs": [],
   "source": [
    "# Keep just calculated and predicted evaporations\n",
    "Data_evap_old = Data_evap_old.drop(['Hotplate', 'Last Syringe Mass (g)',\n",
    "                            'Last Solution Mass (g)', 'Last Total Mass (g)',\n",
    "                            'All Deposited Crystals (g)', 'Total Infusion (g)', 'Total Evaporation (g)', \n",
    "                            'Estimated Last Concentration (wt.%)', 'Hotplate Temperature (oC)',\n",
    "                            'Syringe Diameter (mm)', 'Imaging Width (pixel)',\n",
    "                            'Imaging Height (pixel)', 'Shot Interval (sec)', 'Mask Radius (pixel)',\n",
    "                            'Scale (pixel/mm2)', 'B Bottom Threshold', 'G Bottom Threshold',\n",
    "                            'R Bottom Threshold', 'B Top Threshold', 'G Top Threshold',\n",
    "                            'R Top Threshold', 'L Smoothing Parameters 1',\n",
    "                            'L Smoothing Parameters 2', 'G Smoothing Parameters 1',\n",
    "                            'G Smoothing Parameters 2',\n",
    "                            'source', 'Crystal Size A (mm)', 'Crystal Size B (mm)', 'Crystal Size C (mm)', \n",
    "                            'Kp', 'Ki', 'Kd',\n",
    "                            'Initial Infusion Rate (mL/h)', \n",
    "                            'Initial Syringe Mass (g)', 'Initial Total Mass (g)',\n",
    "                            'Initial Concentration (wt.%)',\n",
    "                            'Seed Size A (mm)', 'Seed Size B (mm)', 'Seed Size C (mm)', \n",
    "                            'Initial Solution Mass (g)', 'Room Temperature (oC)', 'Humidity (RH%)',\n",
    "                            'Ideal Growth Rate (mm/h)', 'Parameters'], axis=1)"
   ]
  },
  {
   "cell_type": "code",
   "execution_count": null,
   "metadata": {},
   "outputs": [],
   "source": [
    "Data_evap_old = Data_evap_old.dropna()"
   ]
  },
  {
   "cell_type": "markdown",
   "metadata": {},
   "source": [
    "Evaporation rates - new results"
   ]
  },
  {
   "cell_type": "code",
   "execution_count": null,
   "metadata": {},
   "outputs": [],
   "source": [
    "#### Results of predicted and calculated - averages - evaporation rates\n",
    "Pred_evap_rate_T = [2.53, 2.69, 2.65, 2.71, 2.57, 2.70, 2.83, 2.82, 2.93, 2.73, 2.7, 2.65, 2.55, 2.67, 2.77, 2.73, 2.75, 2.74, 2.68, 2.76, 2.76, 2.69] \n",
    "Calc_evap_rate_T = [2.28, 2.49, 2.24, 2.53, 2.33, 2.28, 2.40, 2.13, 2.74, 2.28, 2.32, 2.28, 2.39, 1.99, 2.34, 2.33, 2.37, 2.42, 2.58, 2.92, 2.19, 2.51]\n",
    "\n",
    "Pred_T = pd.DataFrame({\n",
    "    'Pred_evap_rate_T': Pred_evap_rate_T,\n",
    "    'Calc_evap_rate_T': Calc_evap_rate_T\n",
    "})\n",
    "\n",
    "# Mean Squared Error (MSE) e Root Mean Squared Error (RMSE) \n",
    "mae = mean_absolute_error(Pred_T['Pred_evap_rate_T'], Pred_T['Calc_evap_rate_T'])\n",
    "mse = mean_squared_error(Pred_T['Pred_evap_rate_T'], Pred_T['Calc_evap_rate_T'])\n",
    "rmse = np.sqrt(mse)\n",
    "r2 = r2_score(Pred_T['Pred_evap_rate_T'], Pred_T['Calc_evap_rate_T'])\n",
    "print(f\"mae: {mae}\")\n",
    "print(f\"mse: {mse}\")\n",
    "print(f\"rmse: {rmse}\")\n",
    "print(f\"r2: {r2}\")"
   ]
  },
  {
   "cell_type": "markdown",
   "metadata": {},
   "source": [
    "Boxplot"
   ]
  },
  {
   "cell_type": "code",
   "execution_count": null,
   "metadata": {},
   "outputs": [],
   "source": [
    "# Rename columns --- two different dataframes\n",
    "Pred_T = Pred_T.rename(columns={'Pred_evap_rate_T':'Pred evap',\n",
    "                                'Calc_evap_rate_T':'Calc evap'})\n",
    "Data_evap_old = Data_evap_old.rename(columns={'Evaporation Rate (g/h)':'Prev Evap'})\n",
    "\n",
    "# Colors\n",
    "colors = cm.vik\n",
    "color_1 = 0.85\n",
    "color_one = colors(color_1)\n",
    "color_2 = 0.1\n",
    "color_two = colors(color_2)\n",
    "color_3 = 0.6\n",
    "color_three = colors(color_3)\n",
    "color_4 = 0.95\n",
    "color_four = colors(color_4)\n",
    "median_color_index = 0.33\n",
    "median_color = colors(median_color_index)\n",
    "\n",
    "\n",
    "# Select columns\n",
    "column_pred_1 = Pred_T['Pred evap']\n",
    "column_pred_2 = Pred_T['Calc evap']\n",
    "column_evap_old = Data_evap_old['Prev Evap']\n",
    "\n",
    "# Combined dataframe - i'm using columns from two dataframes\n",
    "combined_df = pd.DataFrame({\n",
    "    'Evaporation Rate': pd.concat([column_pred_1, column_pred_2, column_evap_old], ignore_index=True),\n",
    "    'Category': ['Pred evap'] * len(column_pred_1) + \n",
    "                ['Calc evap'] * len(column_pred_2) + \n",
    "                ['Prev Evap'] * len(column_evap_old)\n",
    "})\n",
    "\n",
    "save_path = r'...\\Paper ML crystal\\Figuras'\n",
    "\n",
    "if not os.path.exists(save_path):\n",
    "    os.makedirs(save_path)\n",
    "\n",
    "# Create plot\n",
    "fig, ax1 = plt.subplots(figsize=(8, 6))\n",
    "\n",
    "# Create boxplot\n",
    "sns.boxplot(x='Category', y='Evaporation Rate', data=combined_df,\n",
    "            medianprops={'color': median_color, 'linewidth': 1},\n",
    "            ax=ax1, palette=[color_two, color_three, color_one, ])\n",
    "\n",
    "# Add stripplot -- add the dots on top of boxplot\n",
    "sns.stripplot(x='Category', y='Evaporation Rate', data=combined_df,\n",
    "              color=color_four, alpha=0.6, size=3, ax=ax1)\n",
    "\n",
    "## Adjusting figure set\n",
    "ax1.set_ylabel('Evaporation Rate (g/h)', color='black', fontsize=20)\n",
    "ax1.tick_params(axis='y', labelsize=15)\n",
    "ax1.tick_params(axis='x', labelsize=15)\n",
    "\n",
    "ax1.spines['left'].set_linewidth(1)\n",
    "ax1.spines['right'].set_linewidth(1)\n",
    "ax1.spines['bottom'].set_linewidth(1)\n",
    "ax1.spines['top'].set_linewidth(1)\n",
    "\n",
    "plt.show()\n",
    "\n",
    "# Save figure\n",
    "fig.set_dpi(500)\n",
    "fig.savefig(os.path.join(save_path, 'Evaporation_Rate_boxplot.png'), dpi=500, bbox_inches='tight', format='png', transparent=True)\n",
    "\n",
    "plt.close(fig)\n"
   ]
  },
  {
   "cell_type": "markdown",
   "metadata": {},
   "source": [
    "Growth rates  - Figures 4 - d,e"
   ]
  },
  {
   "cell_type": "code",
   "execution_count": null,
   "metadata": {},
   "outputs": [],
   "source": [
    "## This is file is for all growth rates - 251 experiments - to calculate the metrics in Figure 4 - d\n",
    "Data_growth = pd.read_csv(r\"...\\average_Y_S_all.csv\", \n",
    "                                delimiter = \",\")\n",
    "\n",
    "Data_growth = Data_growth.drop(['Hotplate', 'Last Syringe Mass (g)',\n",
    "                            'Last Solution Mass (g)', 'Last Total Mass (g)',\n",
    "                            'All Deposited Crystals (g)', 'Total Infusion (g)', 'Total Evaporation (g)', \n",
    "                            'Estimated Last Concentration (wt.%)', 'Hotplate Temperature (oC)',\n",
    "                            'Syringe Diameter (mm)', 'Imaging Width (pixel)',\n",
    "                            'Imaging Height (pixel)', 'Shot Interval (sec)', 'Mask Radius (pixel)',\n",
    "                            'Scale (pixel/mm2)', 'B Bottom Threshold', 'G Bottom Threshold',\n",
    "                            'R Bottom Threshold', 'B Top Threshold', 'G Top Threshold',\n",
    "                            'R Top Threshold', 'L Smoothing Parameters 1',\n",
    "                            'L Smoothing Parameters 2', 'G Smoothing Parameters 1',\n",
    "                            'G Smoothing Parameters 2',\n",
    "                            'source', 'Crystal Size A (mm)', 'Crystal Size B (mm)', 'Crystal Size C (mm)', \n",
    "                            'Kp', 'Ki', 'Kd',\n",
    "                            'Initial Infusion Rate (mL/h)', \n",
    "                            'Initial Syringe Mass (g)', 'Initial Total Mass (g)',\n",
    "                            'Initial Concentration (wt.%)', 'Growth Rate (mm/h)',\n",
    "                            'Seed Size A (mm)', 'Seed Size B (mm)', 'Seed Size C (mm)', \n",
    "                            'Initial Solution Mass (g)', 'Room Temperature (oC)', 'Humidity (RH%)',\n",
    "                            'Parameters', 'Infusion Rate (mL/h)', 'Total Infusion (mL)',\n",
    "                            'Number of Crystals', 'Length (mm)', 'Smoothed Length (mm)',\n",
    "                            'Area (mm2)', 'Est-Mass (g)', 'Smoothed Growth Rate (mm/h)',\n",
    "                            'e(t)', 'de/dt', 'integral e', 'Estimated Concentration (wt.%)', 'source.1',\n",
    "                            'Estimated Evaporation Rate (g/h)', 'Evaporation Rate (g/h)',\n",
    "                            'Unnamed: 0', 'Time (h)'], axis=1)\n",
    "\n",
    "Data_growth = Data_growth.dropna()\n",
    "\n",
    "# Mean Squared Error (MSE) e Root Mean Squared Error (RMSE)\n",
    "mae = mean_absolute_error(Data_growth['Ideal Growth Rate (mm/h)'], Data_growth['average_Growth Rate (mm/h)'])\n",
    "mse = mean_squared_error(Data_growth['Ideal Growth Rate (mm/h)'], Data_growth['average_Growth Rate (mm/h)'])\n",
    "rmse = np.sqrt(mse)\n",
    "print(f\"mae: {mae}\")\n",
    "print(f\"mse: {mse}\")\n",
    "print(f\"rmse: {rmse}\")"
   ]
  },
  {
   "cell_type": "code",
   "execution_count": null,
   "metadata": {},
   "outputs": [],
   "source": [
    "## This file contains the 73 results used in the previous paper, for comparison with the new experiments\n",
    "SSE = pd.read_excel(r\"...\\Tables_for_paper.xlsx\", \n",
    "                                sheet_name= 'steady state error')"
   ]
  },
  {
   "cell_type": "code",
   "execution_count": null,
   "metadata": {},
   "outputs": [],
   "source": [
    "colors = cm.vik\n",
    "color_1 = 0.87\n",
    "color_one = colors(color_1)\n",
    "color_2 = 0.1\n",
    "color_two = colors(color_2)\n",
    "color_3 = 0.7\n",
    "color_three = colors(color_3)\n",
    "\n",
    "save_path = r'...\\Paper ML crystal\\Figures'\n",
    "\n",
    "# Create plots\n",
    "fig, ax1 = plt.subplots(figsize=(8, 6))\n",
    "\n",
    "# Plot histograms\n",
    "ax1.hist(SSE['Steady-State Error'], bins=25, alpha=0.9, color=color_one, label='Previous growths, N = 73') \n",
    "ax1.hist(SSE['New_one_pred'], bins=25, alpha=1, color=color_three, label='One evap pred - ML, N = 7') \n",
    "ax1.hist(SSE['New'], bins=10, alpha=0.85, color=color_two, label='Many evap pred - ML, N = 20') \n",
    "\n",
    "# Adjust figure set\n",
    "ax1.set_ylabel('Count', fontsize=20)\n",
    "ax1.set_xlabel('Steady state error', fontsize=20)\n",
    "ax1.tick_params(axis='y', labelsize=15)\n",
    "ax1.tick_params(axis='x', labelsize=15)\n",
    "\n",
    "ax1.spines['left'].set_linewidth(1)\n",
    "ax1.spines['right'].set_linewidth(1)\n",
    "ax1.spines['bottom'].set_linewidth(1)\n",
    "ax1.spines['top'].set_linewidth(1)\n",
    "\n",
    "ax1.legend(fontsize=12, frameon=False)\n",
    "\n",
    "fig.set_dpi(500)\n",
    "fig.savefig(os.path.join(save_path, 'Growth_Rates_Errors_Histogram.png'), dpi=500, bbox_inches='tight', format='png', transparent=True)\n",
    "\n",
    "plt.show()\n",
    "\n",
    "plt.close(fig)\n"
   ]
  }
 ],
 "metadata": {
  "language_info": {
   "name": "python"
  }
 },
 "nbformat": 4,
 "nbformat_minor": 2
}
